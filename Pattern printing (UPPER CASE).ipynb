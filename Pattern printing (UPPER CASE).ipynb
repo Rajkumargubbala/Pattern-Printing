{
 "cells": [
  {
   "cell_type": "code",
   "execution_count": 68,
   "id": "b5f489e9",
   "metadata": {},
   "outputs": [
    {
     "name": "stdout",
     "output_type": "stream",
     "text": [
      " ***\n",
      "*   *\n",
      "*****\n",
      "*   *\n",
      "*   *\n"
     ]
    }
   ],
   "source": [
    "# program to print \"A\"\n",
    "a=1\n",
    "while a<=5:\n",
    "    if a==1:\n",
    "        print(' ***')\n",
    "    elif a==2:\n",
    "        print('*   *')\n",
    "    elif a==3:\n",
    "        print('*****')\n",
    "    elif a==4:\n",
    "        print('*   *')\n",
    "    elif a==5:\n",
    "        print('*   *')\n",
    "    a=a+1"
   ]
  },
  {
   "cell_type": "code",
   "execution_count": 2,
   "id": "21ee957e",
   "metadata": {},
   "outputs": [
    {
     "name": "stdout",
     "output_type": "stream",
     "text": [
      "****\n",
      "*   *\n",
      "****\n",
      "*   *\n",
      "****\n"
     ]
    }
   ],
   "source": [
    "# program to print \"B\"\n",
    "a=1\n",
    "while a<=5:\n",
    "    if a==1:\n",
    "        print('****')\n",
    "    elif a==2:\n",
    "        print('*   *')\n",
    "    elif a==3:\n",
    "        print('****')\n",
    "    elif a==4:\n",
    "        print('*   *')\n",
    "    elif a==5:\n",
    "        print('****')\n",
    "    a=a+1"
   ]
  },
  {
   "cell_type": "code",
   "execution_count": 3,
   "id": "014ba8c4",
   "metadata": {},
   "outputs": [
    {
     "name": "stdout",
     "output_type": "stream",
     "text": [
      " *****\n",
      "*\n",
      "*\n",
      "*\n",
      " *****\n"
     ]
    }
   ],
   "source": [
    "# program to print \"C\"\n",
    "a=1\n",
    "while a<=5:\n",
    "    if a==1:\n",
    "        print(' *****')\n",
    "    elif a==2:\n",
    "        print('*')\n",
    "    elif a==3:\n",
    "        print('*')\n",
    "    elif a==4:\n",
    "        print('*')\n",
    "    elif a==5:\n",
    "        print(' *****')\n",
    "    a=a+1"
   ]
  },
  {
   "cell_type": "code",
   "execution_count": 4,
   "id": "b0bf2335",
   "metadata": {},
   "outputs": [
    {
     "name": "stdout",
     "output_type": "stream",
     "text": [
      "****\n",
      "*    *\n",
      "*    *\n",
      "*    *\n",
      "****\n"
     ]
    }
   ],
   "source": [
    "# program to print \"D\"\n",
    "a=1\n",
    "while a<=5:\n",
    "    if a==1:\n",
    "        print('****')\n",
    "    elif a==2:\n",
    "        print('*    *')\n",
    "    elif a==3:\n",
    "        print('*    *')\n",
    "    elif a==4:\n",
    "        print('*    *')\n",
    "    elif a==5:\n",
    "        print('****')\n",
    "    a=a+1"
   ]
  },
  {
   "cell_type": "code",
   "execution_count": 5,
   "id": "352f5086",
   "metadata": {},
   "outputs": [
    {
     "name": "stdout",
     "output_type": "stream",
     "text": [
      "*****\n",
      "*\n",
      "*****\n",
      "*\n",
      "*****\n"
     ]
    }
   ],
   "source": [
    "# program to print \"E\"\n",
    "a=1\n",
    "while a<=5:\n",
    "    if a==1:\n",
    "        print('*****')\n",
    "    elif a==2:\n",
    "        print('*')\n",
    "    elif a==3:\n",
    "        print('*****')\n",
    "    elif a==4:\n",
    "        print('*')\n",
    "    elif a==5:\n",
    "        print('*****')\n",
    "    a=a+1"
   ]
  },
  {
   "cell_type": "code",
   "execution_count": 6,
   "id": "c32c7176",
   "metadata": {},
   "outputs": [
    {
     "name": "stdout",
     "output_type": "stream",
     "text": [
      "******\n",
      "*\n",
      "******\n",
      "*\n",
      "*\n"
     ]
    }
   ],
   "source": [
    "# program to print \"F\"\n",
    "a=1\n",
    "while a<=5:\n",
    "    if a==1:\n",
    "        print('******')\n",
    "    elif a==2:\n",
    "        print('*')\n",
    "    elif a==3:\n",
    "        print('******')\n",
    "    elif a==4:\n",
    "        print('*')\n",
    "    elif a==5:\n",
    "        print('*')\n",
    "    a=a+1"
   ]
  },
  {
   "cell_type": "code",
   "execution_count": 7,
   "id": "18715fad",
   "metadata": {},
   "outputs": [
    {
     "name": "stdout",
     "output_type": "stream",
     "text": [
      " *****\n",
      "*\n",
      "*  ***\n",
      "*    *\n",
      " *****\n"
     ]
    }
   ],
   "source": [
    "# program to print \"G\"\n",
    "a=1\n",
    "while a<=5:\n",
    "    if a==1:\n",
    "        print(' *****')\n",
    "    elif a==2:\n",
    "        print('*')\n",
    "    elif a==3:\n",
    "        print('*  ***')\n",
    "    elif a==4:\n",
    "        print('*    *')\n",
    "    elif a==5:\n",
    "        print(' *****')\n",
    "    a=a+1"
   ]
  },
  {
   "cell_type": "code",
   "execution_count": 8,
   "id": "8631ac2b",
   "metadata": {},
   "outputs": [
    {
     "name": "stdout",
     "output_type": "stream",
     "text": [
      "*     *\n",
      "*     *\n",
      "*******\n",
      "*     *\n",
      "*     *\n"
     ]
    }
   ],
   "source": [
    "# program to print \"H\"\n",
    "a=1\n",
    "while a<=5:\n",
    "    if a==1:\n",
    "        print('*     *')\n",
    "    elif a==2:\n",
    "        print('*     *')\n",
    "    elif a==3:\n",
    "        print('*******')\n",
    "    elif a==4:\n",
    "        print('*     *')\n",
    "    elif a==5:\n",
    "        print('*     *')\n",
    "    a=a+1"
   ]
  },
  {
   "cell_type": "code",
   "execution_count": 9,
   "id": "1b968762",
   "metadata": {},
   "outputs": [
    {
     "name": "stdout",
     "output_type": "stream",
     "text": [
      "*****\n",
      "  *\n",
      "  *\n",
      "  *\n",
      "*****\n"
     ]
    }
   ],
   "source": [
    "# program to print \"I\"\n",
    "a=1\n",
    "while a<=5:\n",
    "    if a==1:\n",
    "        print('*****')\n",
    "    elif a==2:\n",
    "        print('  *')\n",
    "    elif a==3:\n",
    "        print('  *')\n",
    "    elif a==4:\n",
    "        print('  *')\n",
    "    elif a==5:\n",
    "        print('*****')\n",
    "    a=a+1"
   ]
  },
  {
   "cell_type": "code",
   "execution_count": 69,
   "id": "59177848",
   "metadata": {},
   "outputs": [
    {
     "name": "stdout",
     "output_type": "stream",
     "text": [
      "*******\n",
      "    *\n",
      "    *\n",
      "*   *\n",
      " ***\n"
     ]
    }
   ],
   "source": [
    "# program to print \"J\"\n",
    "a=1\n",
    "while a<=5:\n",
    "    if a==1:\n",
    "        print('*******')\n",
    "    elif a==2:\n",
    "        print('    *')\n",
    "    elif a==3:\n",
    "        print('    *')\n",
    "    elif a==4:\n",
    "        print('*   *')\n",
    "    elif a==5:\n",
    "        print(' ***')\n",
    "    a=a+1"
   ]
  },
  {
   "cell_type": "code",
   "execution_count": 11,
   "id": "03ef237f",
   "metadata": {},
   "outputs": [
    {
     "name": "stdout",
     "output_type": "stream",
     "text": [
      "*   *\n",
      "*  *\n",
      "**\n",
      "*  *\n",
      "*   *\n"
     ]
    }
   ],
   "source": [
    "# program to print \"K\"\n",
    "a=1\n",
    "while a<=5:\n",
    "    if a==1:\n",
    "        print('*   *')\n",
    "    elif a==2:\n",
    "        print('*  *')\n",
    "    elif a==3:\n",
    "        print('**')\n",
    "    elif a==4:\n",
    "        print('*  *')\n",
    "    elif a==5:\n",
    "        print('*   *')\n",
    "    a=a+1"
   ]
  },
  {
   "cell_type": "code",
   "execution_count": 12,
   "id": "ed91da64",
   "metadata": {},
   "outputs": [
    {
     "name": "stdout",
     "output_type": "stream",
     "text": [
      "*\n",
      "*    \n",
      "*    \n",
      "*    \n",
      "******\n"
     ]
    }
   ],
   "source": [
    "# program to print 'L'\n",
    "a=1\n",
    "while a<=5:\n",
    "    if a==1:\n",
    "        print('*')\n",
    "    elif a==2:\n",
    "        print('*    ')\n",
    "    elif a==3:\n",
    "        print('*    ')\n",
    "    elif a==4:\n",
    "        print('*    ')\n",
    "    elif a==5:\n",
    "        print('******')\n",
    "    a=a+1"
   ]
  },
  {
   "cell_type": "code",
   "execution_count": 13,
   "id": "0254fa5f",
   "metadata": {},
   "outputs": [
    {
     "name": "stdout",
     "output_type": "stream",
     "text": [
      "*       *\n",
      "* *   * *\n",
      "*   *   *\n",
      "*       *\n",
      "*       *\n"
     ]
    }
   ],
   "source": [
    "# program to print \"M\"\n",
    "a=1\n",
    "while a<=5:\n",
    "    if a==1:\n",
    "        print('*       *')\n",
    "    elif a==2:\n",
    "        print('* *   * *')\n",
    "    elif a==3:\n",
    "        print('*   *   *')\n",
    "    elif a==4:\n",
    "        print('*       *')\n",
    "    elif a==5:\n",
    "        print('*       *')\n",
    "    a=a+1"
   ]
  },
  {
   "cell_type": "code",
   "execution_count": 14,
   "id": "3b5dde95",
   "metadata": {},
   "outputs": [
    {
     "name": "stdout",
     "output_type": "stream",
     "text": [
      "*        *\n",
      "* *      *\n",
      "*   *    *\n",
      "*      * *\n",
      "*        *\n"
     ]
    }
   ],
   "source": [
    "# program to print \"N\"\n",
    "a=1\n",
    "while a<=5:\n",
    "    if a==1:\n",
    "        print('*        *')\n",
    "    elif a==2:\n",
    "        print('* *      *')\n",
    "    elif a==3:\n",
    "        print('*   *    *')\n",
    "    elif a==4:\n",
    "        print('*      * *')\n",
    "    elif a==5:\n",
    "        print('*        *')\n",
    "    a=a+1"
   ]
  },
  {
   "cell_type": "code",
   "execution_count": 16,
   "id": "dcb8f34f",
   "metadata": {},
   "outputs": [
    {
     "name": "stdout",
     "output_type": "stream",
     "text": [
      " ***\n",
      "*   *\n",
      "*   *\n",
      "*   *\n",
      " ***\n"
     ]
    }
   ],
   "source": [
    "# program to print \"O\"\n",
    "a=1\n",
    "while a<=5:\n",
    "    if a==1:\n",
    "        print(' ***')\n",
    "    elif a==2:\n",
    "        print('*   *')\n",
    "    elif a==3:\n",
    "        print('*   *')\n",
    "    elif a==4:\n",
    "        print('*   *')\n",
    "    elif a==5:\n",
    "        print(' ***')\n",
    "    a=a+1"
   ]
  },
  {
   "cell_type": "code",
   "execution_count": 17,
   "id": "851f4a86",
   "metadata": {},
   "outputs": [
    {
     "name": "stdout",
     "output_type": "stream",
     "text": [
      "****\n",
      "*   *\n",
      "****\n",
      "*\n",
      "*\n"
     ]
    }
   ],
   "source": [
    "# program to print \"P\"\n",
    "a=1\n",
    "while a<=5:\n",
    "    if a==1:\n",
    "        print('****')\n",
    "    elif a==2:\n",
    "        print('*   *')\n",
    "    elif a==3:\n",
    "        print('****')\n",
    "    elif a==4:\n",
    "        print('*')\n",
    "    elif a==5:\n",
    "        print('*')\n",
    "    a=a+1"
   ]
  },
  {
   "cell_type": "code",
   "execution_count": 31,
   "id": "25764370",
   "metadata": {
    "scrolled": true
   },
   "outputs": [
    {
     "name": "stdout",
     "output_type": "stream",
     "text": [
      " ****\n",
      "*    *\n",
      "*    *\n",
      "*  * *\n",
      " ****\n",
      "     *\n"
     ]
    }
   ],
   "source": [
    "# program to print \"Q\"\n",
    "a=1\n",
    "while a<=6:\n",
    "    if a==1:\n",
    "        print(' ****')\n",
    "    elif a==2:\n",
    "        print('*    *')\n",
    "    elif a==3:\n",
    "        print('*    *')\n",
    "    elif a==4:\n",
    "        print('*  * *')\n",
    "    elif a==5:\n",
    "        print(' ****')\n",
    "    elif a==6:\n",
    "        print('     *')\n",
    "    a=a+1\n"
   ]
  },
  {
   "cell_type": "code",
   "execution_count": 40,
   "id": "ee88efaf",
   "metadata": {},
   "outputs": [
    {
     "name": "stdout",
     "output_type": "stream",
     "text": [
      "****\n",
      "*   *\n",
      "****\n",
      "* *\n",
      "*   *\n"
     ]
    }
   ],
   "source": [
    "# program to print \"R\"\n",
    "a=1\n",
    "while a<=5:\n",
    "    if a==1:\n",
    "        print('****')\n",
    "    elif a==2:\n",
    "        print('*   *')\n",
    "    elif a==3:\n",
    "        print('****')\n",
    "    elif a==4:\n",
    "        print('* *')\n",
    "    elif a==5:\n",
    "        print('*   *')\n",
    "    a=a+1"
   ]
  },
  {
   "cell_type": "code",
   "execution_count": 43,
   "id": "321b9316",
   "metadata": {},
   "outputs": [
    {
     "name": "stdout",
     "output_type": "stream",
     "text": [
      "*****\n",
      "*\n",
      "*****\n",
      "    *\n",
      "*****\n"
     ]
    }
   ],
   "source": [
    "# program to print \"S\"\n",
    "a=1\n",
    "while a<=5:\n",
    "    if a==1:\n",
    "        print('*****')\n",
    "    elif a==2:\n",
    "        print('*')\n",
    "    elif a==3:\n",
    "        print('*****')\n",
    "    elif a==4:\n",
    "        print('    *')\n",
    "    elif a==5:\n",
    "        print('*****')\n",
    "    a=a+1"
   ]
  },
  {
   "cell_type": "code",
   "execution_count": 44,
   "id": "11ec378e",
   "metadata": {},
   "outputs": [
    {
     "name": "stdout",
     "output_type": "stream",
     "text": [
      "*******\n",
      "   *\n",
      "   *\n",
      "   *\n",
      "   *\n"
     ]
    }
   ],
   "source": [
    "# program to print \"T\"\n",
    "a=1\n",
    "while a<=5:\n",
    "    if a==1:\n",
    "        print('*******')\n",
    "    elif a==2:\n",
    "        print('   *')\n",
    "    elif a==3:\n",
    "        print('   *')\n",
    "    elif a==4:\n",
    "        print('   *')\n",
    "    elif a==5:\n",
    "        print('   *')\n",
    "    a=a+1"
   ]
  },
  {
   "cell_type": "code",
   "execution_count": 45,
   "id": "977ca1c4",
   "metadata": {},
   "outputs": [
    {
     "name": "stdout",
     "output_type": "stream",
     "text": [
      "*     *\n",
      "*     *\n",
      "*     *\n",
      "*     *\n",
      " *****\n"
     ]
    }
   ],
   "source": [
    "# program to print \"U\"\n",
    "a=1\n",
    "while a<=5:\n",
    "    if a==1:\n",
    "        print('*     *')\n",
    "    elif a==2:\n",
    "        print('*     *')\n",
    "    elif a==3:\n",
    "        print('*     *')\n",
    "    elif a==4:\n",
    "        print('*     *')\n",
    "    elif a==5:\n",
    "        print(' *****')\n",
    "    a=a+1"
   ]
  },
  {
   "cell_type": "code",
   "execution_count": 46,
   "id": "b330f90e",
   "metadata": {},
   "outputs": [
    {
     "name": "stdout",
     "output_type": "stream",
     "text": [
      "*       *\n",
      " *     *\n",
      "  *   *\n",
      "   * *\n",
      "    *\n"
     ]
    }
   ],
   "source": [
    "# program to print \"V\"\n",
    "a=1\n",
    "while a<=5:\n",
    "    if a==1:\n",
    "        print('*       *')\n",
    "    elif a==2:\n",
    "        print(' *     *')\n",
    "    elif a==3:\n",
    "        print('  *   *')\n",
    "    elif a==4:\n",
    "        print('   * *')\n",
    "    elif a==5:\n",
    "        print('    *')\n",
    "    a=a+1"
   ]
  },
  {
   "cell_type": "code",
   "execution_count": 51,
   "id": "aaca8c7f",
   "metadata": {},
   "outputs": [
    {
     "name": "stdout",
     "output_type": "stream",
     "text": [
      "*         *\n",
      "*    *    *\n",
      "*  *   *  *\n",
      "* *     * *\n",
      "*         *\n"
     ]
    }
   ],
   "source": [
    "# program to print \"W\"\n",
    "a=1\n",
    "while a<=5:\n",
    "    if a==1:\n",
    "        print('*         *')\n",
    "    elif a==2:\n",
    "        print('*    *    *')\n",
    "    elif a==3:\n",
    "        print('*  *   *  *')\n",
    "    elif a==4:\n",
    "        print('* *     * *')\n",
    "    elif a==5:\n",
    "        print('*         *')\n",
    "    a=a+1"
   ]
  },
  {
   "cell_type": "code",
   "execution_count": 61,
   "id": "6ccaee27",
   "metadata": {},
   "outputs": [
    {
     "name": "stdout",
     "output_type": "stream",
     "text": [
      "*   *\n",
      " * *\n",
      "  *\n",
      " * *\n",
      "*   *\n"
     ]
    }
   ],
   "source": [
    "# program to print \"X\"\n",
    "a=1\n",
    "while a<=5:\n",
    "    if a==1:\n",
    "        print('*   *')\n",
    "    elif a==2:\n",
    "        print(' * *')\n",
    "    elif a==3:\n",
    "        print('  *')\n",
    "    elif a==4:\n",
    "        print(' * *')\n",
    "    elif a==5:\n",
    "        print('*   *')\n",
    "    a=a+1"
   ]
  },
  {
   "cell_type": "code",
   "execution_count": 63,
   "id": "f5e3b8e5",
   "metadata": {},
   "outputs": [
    {
     "name": "stdout",
     "output_type": "stream",
     "text": [
      "*    *\n",
      " *  *\n",
      "  *\n",
      "  *\n",
      "  *\n"
     ]
    }
   ],
   "source": [
    "# program to print \"Y\"\n",
    "a=1\n",
    "while a<=5:\n",
    "    if a==1:\n",
    "        print('*    *')\n",
    "    elif a==2:\n",
    "        print(' *  *')\n",
    "    elif a==3:\n",
    "        print('  *')\n",
    "    elif a==4:\n",
    "        print('  *')\n",
    "    elif a==5:\n",
    "        print('  *')\n",
    "    a=a+1"
   ]
  },
  {
   "cell_type": "code",
   "execution_count": 66,
   "id": "6f1e304d",
   "metadata": {},
   "outputs": [
    {
     "name": "stdout",
     "output_type": "stream",
     "text": [
      "*****\n",
      "   *\n",
      "  *\n",
      " *\n",
      "******\n"
     ]
    }
   ],
   "source": [
    "# program to print \"Z\"\n",
    "a=1\n",
    "while a<=5:\n",
    "    if a==1:\n",
    "        print('*****')\n",
    "    elif a==2:\n",
    "        print('   *')\n",
    "    elif a==3:\n",
    "        print('  *')\n",
    "    elif a==4:\n",
    "        print(' *')\n",
    "    elif a==5:\n",
    "        print('******')\n",
    "    a=a+1"
   ]
  },
  {
   "cell_type": "code",
   "execution_count": null,
   "id": "80ae03f3",
   "metadata": {},
   "outputs": [],
   "source": []
  }
 ],
 "metadata": {
  "kernelspec": {
   "display_name": "Python 3 (ipykernel)",
   "language": "python",
   "name": "python3"
  },
  "language_info": {
   "codemirror_mode": {
    "name": "ipython",
    "version": 3
   },
   "file_extension": ".py",
   "mimetype": "text/x-python",
   "name": "python",
   "nbconvert_exporter": "python",
   "pygments_lexer": "ipython3",
   "version": "3.9.7"
  }
 },
 "nbformat": 4,
 "nbformat_minor": 5
}
